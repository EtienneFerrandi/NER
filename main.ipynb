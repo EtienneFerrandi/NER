{
 "cells": [
  {
   "cell_type": "code",
   "execution_count": 1,
   "id": "dcfe1ad9",
   "metadata": {},
   "outputs": [],
   "source": [
    "import spacy\n",
    "from spacy.pipeline import EntityRuler\n",
    "import json\n",
    "import glob"
   ]
  },
  {
   "cell_type": "code",
   "execution_count": 2,
   "id": "8077bf42",
   "metadata": {},
   "outputs": [],
   "source": [
    "#préparation d'un fichier json\n",
    "def load_data(file):\n",
    "    with open (file, \"r\", encoding=\"utf-8\") as f:\n",
    "        data = json.load(f)\n",
    "    return (data)\n",
    "\n",
    "def write_data(file, data):\n",
    "    with open (file, \"w\", encoding=\"utf-8\") as f:\n",
    "        json.dump(data, f, indent=4)"
   ]
  },
  {
   "cell_type": "code",
   "execution_count": 7,
   "id": "d5c2b2f1",
   "metadata": {},
   "outputs": [
    {
     "name": "stdout",
     "output_type": "stream",
     "text": [
      "2425\n"
     ]
    }
   ],
   "source": [
    "#génération d'un modèle de reconnaissance d'entités nommées avec patterns\n",
    "def generate_ruler(patterns,name):\n",
    "    nlp = spacy.blank(\"en\")\n",
    "    ruler=nlp.add_pipe(\"entity_ruler\")\n",
    "    ruler.add_patterns(patterns)\n",
    "    nlp.to_disk(f\"models/{name}_ent_ruler\")\n",
    "\n",
    "#création des données d'entraînement (liste des noms propres du dictionnaire LS déclinés)\n",
    "def create_training_data(file, type):\n",
    "    data = load_data(file)\n",
    "    patterns = []\n",
    "    for item in data:\n",
    "        pattern = {\n",
    "                    \"label\": type,\n",
    "                    \"pattern\": item\n",
    "                    }\n",
    "        patterns.append(pattern)\n",
    "    return (patterns)\n",
    "\n",
    "#entraînement du modèle à reconnaître des entités nommées sur un corpus donné\n",
    "#allongement de la longueur maximale autorisée de la taille du corpus\n",
    "def test_ent_ruler(ruler, corpus):\n",
    "    nlp = spacy.load(ruler)\n",
    "    nlp.max_length = 2000000\n",
    "    with open (corpus, \"r\", encoding=\"utf-8\") as f:\n",
    "        corpus = f.read()\n",
    "    with open (\"temp/results.txt\", \"w\", encoding=\"utf-8\") as f:\n",
    "        doc = nlp(corpus)\n",
    "        for ent in doc.ents:\n",
    "            f.write(f\"{ent.text}, {ent.label_}\\n\")\n",
    "\n",
    "#création du fichier training_set.json où sont répertoriées les entités nommées avec leur position dans le corpus\n",
    "def create_training_set(corpus, ent_ruler_model, output_file):\n",
    "    nlp=spacy.load(ent_ruler_model)\n",
    "    TRAIN_DATA = []\n",
    "    with open (corpus, \"r\", encoding=\"utf-8\") as f:\n",
    "        data = f.read()\n",
    "        segments = data.split(\"\\n\")\n",
    "        for segment in segments:\n",
    "            segment = segment.strip()\n",
    "            doc = nlp(segment)\n",
    "            entities = []\n",
    "            for ent in doc.ents:\n",
    "                entities.append({\"start\":ent.start_char, \"end\": ent.end_char,  \"label\": ent.label_, \"text\": ent.text})\n",
    "            if len(entities) > 0:\n",
    "                TRAIN_DATA.append({\"text\": segment, \"spans\": entities})\n",
    "    print (len(TRAIN_DATA))\n",
    "    with open (output_file, \"w\", encoding=\"utf-8\") as f:\n",
    "        json.dump(TRAIN_DATA, f, indent=4)\n",
    "        \n",
    "names=create_training_data(\"data/names_declined.json\",\"NAME\")\n",
    "generate_ruler(names,\"names\")\n",
    "test_ent_ruler(\"models/names_ent_ruler\", \"data/Marci-Encycl.txt\")\n",
    "create_training_set(\"data/Marci-Encycl.txt\", \"models/names_ent_ruler\", \"train/training_set.json\")"
   ]
  }
 ],
 "metadata": {
  "kernelspec": {
   "display_name": "Python 3 (ipykernel)",
   "language": "python",
   "name": "python3"
  },
  "language_info": {
   "codemirror_mode": {
    "name": "ipython",
    "version": 3
   },
   "file_extension": ".py",
   "mimetype": "text/x-python",
   "name": "python",
   "nbconvert_exporter": "python",
   "pygments_lexer": "ipython3",
   "version": "3.8.10"
  }
 },
 "nbformat": 4,
 "nbformat_minor": 5
}
