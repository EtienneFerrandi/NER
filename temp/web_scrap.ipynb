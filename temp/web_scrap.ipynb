{
 "cells": [
  {
   "cell_type": "code",
   "execution_count": 1,
   "id": "97d73e8b",
   "metadata": {},
   "outputs": [],
   "source": [
    "from bs4 import BeautifulSoup\n",
    "from selenium import webdriver"
   ]
  },
  {
   "cell_type": "code",
   "execution_count": 14,
   "id": "b6544cd1",
   "metadata": {},
   "outputs": [],
   "source": [
    "def get_url(url):\n",
    "    driver = webdriver.Firefox(executable_path=r'C:\\Users\\etien\\anaconda3\\geckodriver-v0.31.0-win64\\geckodriver.exe')\n",
    "    driver.get(url)\n",
    "    soup = BeautifulSoup(driver.page_source, features=\"html.parser\")\n",
    "    all_div=soup.find_all('div',{\"class\": \"row\"})\n",
    "    for div in all_div:\n",
    "        ul=div.find_all('ul',{\"role\":\"group\"})\n",
    "        for i in ul:\n",
    "            li=i.find_all('li')\n",
    "            for j in li:\n",
    "                a=j.find_all(\"a\")\n",
    "                l_url=[]\n",
    "                for k in a:\n",
    "                    ID=k.get(\"id\").split(\"_\")[1]\n",
    "                    url_base=url.split(\"?\")[0]\n",
    "                    new_url=url_base + \"?citid=cit_\" + ID\n",
    "                    l_url.append(new_url)\n",
    "                    for url in l_url:\n",
    "                        driver.get(url)\n",
    "                        new_soup = BeautifulSoup(driver.page_source, features=\"html.parser\")\n",
    "                        al=new_soup.find_all('div',{\"class\": \"row\"})\n",
    "                        for div in al:\n",
    "                            ul2=div.find_all('ul',{\"role\":\"group\"})\n",
    "                            for i in ul2:\n",
    "                                li2=i.find_all('li')\n",
    "                                print(i.find('li').text)\n",
    "                                for j in li2:\n",
    "                                    a2=j.find_all(\"a\")\n",
    "                                    #print(j.find('a').text)\n",
    "                                    \n",
    "                                    \n",
    "                            \n",
    "                        \n",
    "                return l_url"
   ]
  },
  {
   "cell_type": "code",
   "execution_count": 64,
   "id": "0a300fd3",
   "metadata": {},
   "outputs": [],
   "source": [
    "def get_text(l_url):\n",
    "    for url in l_url:\n",
    "        driver.get(url)\n",
    "        new_soup = BeautifulSoup(driver.page_source, features=\"html.parser\")\n",
    "        al=new_soup.find_all('div',{\"class\": \"row\"})\n",
    "        for div in al:\n",
    "            all_items=div.find_all(\"p\")\n",
    "            for item in all_items:\n",
    "                print(item.text)"
   ]
  },
  {
   "cell_type": "code",
   "execution_count": 65,
   "id": "95450c35",
   "metadata": {},
   "outputs": [
    {
     "ename": "NameError",
     "evalue": "name 'l_url' is not defined",
     "output_type": "error",
     "traceback": [
      "\u001b[1;31m---------------------------------------------------------------------------\u001b[0m",
      "\u001b[1;31mNameError\u001b[0m                                 Traceback (most recent call last)",
      "Input \u001b[1;32mIn [65]\u001b[0m, in \u001b[0;36m<cell line: 1>\u001b[1;34m()\u001b[0m\n\u001b[1;32m----> 1\u001b[0m get_text(\u001b[43ml_url\u001b[49m)\n",
      "\u001b[1;31mNameError\u001b[0m: name 'l_url' is not defined"
     ]
    }
   ],
   "source": [
    "get_text(l_url)"
   ]
  },
  {
   "cell_type": "code",
   "execution_count": 15,
   "id": "853237a6",
   "metadata": {},
   "outputs": [
    {
     "name": "stderr",
     "output_type": "stream",
     "text": [
      "C:\\Users\\etien\\AppData\\Local\\Temp\\ipykernel_23592\\1419419537.py:2: DeprecationWarning: executable_path has been deprecated, please pass in a Service object\n",
      "  driver = webdriver.Firefox(executable_path=r'C:\\Users\\etien\\anaconda3\\geckodriver-v0.31.0-win64\\geckodriver.exe')\n"
     ]
    },
    {
     "ename": "NameError",
     "evalue": "name 'all_items' is not defined",
     "output_type": "error",
     "traceback": [
      "\u001b[1;31m---------------------------------------------------------------------------\u001b[0m",
      "\u001b[1;31mNameError\u001b[0m                                 Traceback (most recent call last)",
      "Input \u001b[1;32mIn [15]\u001b[0m, in \u001b[0;36m<cell line: 1>\u001b[1;34m()\u001b[0m\n\u001b[1;32m----> 1\u001b[0m \u001b[43mget_url\u001b[49m\u001b[43m(\u001b[49m\u001b[38;5;124;43m\"\u001b[39;49m\u001b[38;5;124;43mhttp://sourcencyme.irht.cnrs.fr/encyclopedie/historia_naturalis_ed_dominguez_garcia_garcia_ballester_1994?citid=cit_id397123533589\u001b[39;49m\u001b[38;5;124;43m\"\u001b[39;49m\u001b[43m)\u001b[49m\n",
      "Input \u001b[1;32mIn [14]\u001b[0m, in \u001b[0;36mget_url\u001b[1;34m(url)\u001b[0m\n\u001b[0;32m     24\u001b[0m \u001b[38;5;28;01mfor\u001b[39;00m i \u001b[38;5;129;01min\u001b[39;00m ul2:\n\u001b[0;32m     25\u001b[0m     li2\u001b[38;5;241m=\u001b[39mi\u001b[38;5;241m.\u001b[39mfind_all(\u001b[38;5;124m'\u001b[39m\u001b[38;5;124mli\u001b[39m\u001b[38;5;124m'\u001b[39m)\n\u001b[1;32m---> 26\u001b[0m     \u001b[38;5;28;01mfor\u001b[39;00m item \u001b[38;5;129;01min\u001b[39;00m \u001b[43mall_items\u001b[49m:\n\u001b[0;32m     27\u001b[0m         \u001b[38;5;28mprint\u001b[39m(item\u001b[38;5;241m.\u001b[39mget_text())\n\u001b[0;32m     29\u001b[0m     \u001b[38;5;28;01mfor\u001b[39;00m j \u001b[38;5;129;01min\u001b[39;00m li2:\n",
      "\u001b[1;31mNameError\u001b[0m: name 'all_items' is not defined"
     ]
    }
   ],
   "source": [
    "get_url(\"http://sourcencyme.irht.cnrs.fr/encyclopedie/historia_naturalis_ed_dominguez_garcia_garcia_ballester_1994?citid=cit_id397123533589\")"
   ]
  }
 ],
 "metadata": {
  "kernelspec": {
   "display_name": "Python 3 (ipykernel)",
   "language": "python",
   "name": "python3"
  },
  "language_info": {
   "codemirror_mode": {
    "name": "ipython",
    "version": 3
   },
   "file_extension": ".py",
   "mimetype": "text/x-python",
   "name": "python",
   "nbconvert_exporter": "python",
   "pygments_lexer": "ipython3",
   "version": "3.9.12"
  }
 },
 "nbformat": 4,
 "nbformat_minor": 5
}
