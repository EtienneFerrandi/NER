{
 "cells": [
  {
   "cell_type": "code",
   "execution_count": null,
   "id": "55e062aa",
   "metadata": {},
   "outputs": [],
   "source": [
    "import spacy\n",
    "import json\n",
    "import glob\n",
    "from collections import Counter\n",
    "\n",
    "#test sur une encyclopédie médiévale (Alexandre Neckam De Naturis Rerum) du modèle de N.E.R. entraîné\n",
    "def test_model(model, corpus, output_file):\n",
    "    nlp = spacy.load(model)\n",
    "    nlp.max_length = 2000000\n",
    "    \n",
    "    #création d'une liste des entités nommées dans un fichier .json avec indication de leur position dans le texte\n",
    "    TEST_DATA = []\n",
    "    with open(corpus, \"r\", encoding=\"utf-8\") as f:\n",
    "        corpus = f.read()\n",
    "        segments = corpus.split(\"\\n\")\n",
    "        for segment in segments:\n",
    "            segment = segment.strip()\n",
    "            doc = nlp(segment)\n",
    "            entities = []\n",
    "            for ent in doc.ents:\n",
    "                entities.append({\"start\":ent.start_char, \"end\": ent.end_char,  \"label\": ent.label_, \"text\": ent.text})\n",
    "            if len(entities) > 0:\n",
    "                TEST_DATA.append({\"text\": segment, \"spans\": entities})\n",
    "    print(len(TEST_DATA))\n",
    "            \n",
    "    with open(output_file, \"w\", encoding=\"utf-8\") as f:\n",
    "        json.dump(TEST_DATA, f, indent=4)\n",
    "\n",
    "    #remove duplicated named entities and count the number of times a named entity occurs\n",
    "    doc = nlp(corpus)\n",
    "    ents = Counter()\n",
    "    for ent in doc.ents:\n",
    "        ents[f\"{ent.text}:{ent.label_}\"] += 1\n",
    "    with open('results_one_ref.txt','w') as f:\n",
    "        for key, val in ents.items():\n",
    "            f.write('{} : {}\\n'.format(key,val))\n",
    "            \n",
    "    #sort by alphabetical order\n",
    "    with open('results_one_ref.txt','r') as f:\n",
    "        rows = f.readlines()\n",
    "        sorted_rows = sorted(rows)\n",
    "        with open('results_one_ref.txt','w') as f2:\n",
    "            for row in sorted_rows:\n",
    "                f2.write(row)\n",
    "\n",
    "test_model(\"../models/names_ent_ruler/\", '../data/Neckam.txt', \"test.json\")"
   ]
  }
 ],
 "metadata": {
  "interpreter": {
   "hash": "cb82cf9649e39cce20e241ae2ff8961d79b85aa0772a4e03160b4499d1385637"
  },
  "kernelspec": {
   "display_name": "Python 3 (ipykernel)",
   "language": "python",
   "name": "python3"
  },
  "language_info": {
   "codemirror_mode": {
    "name": "ipython",
    "version": 3
   },
   "file_extension": ".py",
   "mimetype": "text/x-python",
   "name": "python",
   "nbconvert_exporter": "python",
   "pygments_lexer": "ipython3",
   "version": "3.9.12"
  }
 },
 "nbformat": 4,
 "nbformat_minor": 5
}
