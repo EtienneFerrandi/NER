{
 "cells": [
  {
   "cell_type": "code",
   "execution_count": null,
   "id": "55e062aa",
   "metadata": {},
   "outputs": [],
   "source": [
    "import spacy\n",
    "\n",
    "def test_model(model, corpus):\n",
    "    nlp = spacy.load(model)\n",
    "    nlp.max_length = 2000000\n",
    "    with open (corpus, \"r\", encoding=\"latin-1\") as f:\n",
    "        corpus = f.read()\n",
    "\n",
    "    with open (\"../temp/ml_results.txt\", \"w\", encoding=\"utf-8\") as f:\n",
    "        doc = nlp(corpus)\n",
    "        for ent in doc.ents:\n",
    "            f.write(f\"{ent.text}, {ent.label_}\\n\")\n",
    "    \n",
    "    #remove duplicated entries\n",
    "    lines = open('../temp/ml_results.txt', 'r').readlines()\n",
    "    lines_set = set(lines)\n",
    "    out  = open('../temp/ml_results.txt', 'w')\n",
    "    for line in lines_set:\n",
    "        out.write(line)\n",
    "\n",
    "test_model(r\"../models/names_ent_ruler/\", \"../data/Marci-de-Urbe-Veteri-Texte-complet.txt\")"
   ]
  }
 ],
 "metadata": {
  "interpreter": {
   "hash": "cb82cf9649e39cce20e241ae2ff8961d79b85aa0772a4e03160b4499d1385637"
  },
  "kernelspec": {
   "display_name": "Python 3 (ipykernel)",
   "language": "python",
   "name": "python3"
  },
  "language_info": {
   "codemirror_mode": {
    "name": "ipython",
    "version": 3
   },
   "file_extension": ".py",
   "mimetype": "text/x-python",
   "name": "python",
   "nbconvert_exporter": "python",
   "pygments_lexer": "ipython3",
   "version": "3.9.12"
  }
 },
 "nbformat": 4,
 "nbformat_minor": 5
}
