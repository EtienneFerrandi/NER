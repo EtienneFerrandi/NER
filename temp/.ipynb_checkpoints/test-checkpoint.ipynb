{
 "cells": [
  {
   "cell_type": "code",
   "execution_count": 155,
   "id": "55e062aa",
   "metadata": {},
   "outputs": [
    {
     "name": "stdout",
     "output_type": "stream",
     "text": [
      "744\n"
     ]
    },
    {
     "ename": "TypeError",
     "evalue": "'builtin_function_or_method' object is not iterable",
     "output_type": "error",
     "traceback": [
      "\u001b[1;31m---------------------------------------------------------------------------\u001b[0m",
      "\u001b[1;31mTypeError\u001b[0m                                 Traceback (most recent call last)",
      "Input \u001b[1;32mIn [155]\u001b[0m, in \u001b[0;36m<cell line: 47>\u001b[1;34m()\u001b[0m\n\u001b[0;32m     44\u001b[0m             \u001b[38;5;28;01mfor\u001b[39;00m row \u001b[38;5;129;01min\u001b[39;00m sorted_rows:\n\u001b[0;32m     45\u001b[0m                 f2\u001b[38;5;241m.\u001b[39mwrite(row)\n\u001b[1;32m---> 47\u001b[0m \u001b[43mtest_model\u001b[49m\u001b[43m(\u001b[49m\u001b[38;5;124;43m\"\u001b[39;49m\u001b[38;5;124;43m../models/names_ent_ruler/\u001b[39;49m\u001b[38;5;124;43m\"\u001b[39;49m\u001b[43m,\u001b[49m\u001b[43m \u001b[49m\u001b[38;5;124;43m'\u001b[39;49m\u001b[38;5;124;43m../data/Neckam.txt\u001b[39;49m\u001b[38;5;124;43m'\u001b[39;49m\u001b[43m,\u001b[49m\u001b[43m \u001b[49m\u001b[38;5;124;43m\"\u001b[39;49m\u001b[38;5;124;43mtest_Neckam.json\u001b[39;49m\u001b[38;5;124;43m\"\u001b[39;49m\u001b[43m)\u001b[49m\n",
      "Input \u001b[1;32mIn [155]\u001b[0m, in \u001b[0;36mtest_model\u001b[1;34m(model, corpus, output_file)\u001b[0m\n\u001b[0;32m     35\u001b[0m     \u001b[38;5;28;01mfor\u001b[39;00m key, val \u001b[38;5;129;01min\u001b[39;00m ents\u001b[38;5;241m.\u001b[39mitems():\n\u001b[0;32m     36\u001b[0m         f\u001b[38;5;241m.\u001b[39mwrite(\u001b[38;5;124m'\u001b[39m\u001b[38;5;132;01m{}\u001b[39;00m\u001b[38;5;124m : \u001b[39m\u001b[38;5;132;01m{}\u001b[39;00m\u001b[38;5;130;01m\\n\u001b[39;00m\u001b[38;5;124m'\u001b[39m\u001b[38;5;241m.\u001b[39mformat(key,val))\n\u001b[1;32m---> 37\u001b[0m         \u001b[38;5;28mprint\u001b[39m(\u001b[38;5;28;43msum\u001b[39;49m\u001b[43m(\u001b[49m\u001b[43ments\u001b[49m\u001b[38;5;241;43m.\u001b[39;49m\u001b[43mvalues\u001b[49m\u001b[43m)\u001b[49m)\n\u001b[0;32m     39\u001b[0m \u001b[38;5;66;03m#sort by alphabetical order\u001b[39;00m\n\u001b[0;32m     40\u001b[0m \u001b[38;5;28;01mwith\u001b[39;00m \u001b[38;5;28mopen\u001b[39m(\u001b[38;5;124m'\u001b[39m\u001b[38;5;124mresults_one_ref.txt\u001b[39m\u001b[38;5;124m'\u001b[39m,\u001b[38;5;124m'\u001b[39m\u001b[38;5;124mr\u001b[39m\u001b[38;5;124m'\u001b[39m) \u001b[38;5;28;01mas\u001b[39;00m f:\n",
      "\u001b[1;31mTypeError\u001b[0m: 'builtin_function_or_method' object is not iterable"
     ]
    }
   ],
   "source": [
    "import spacy\n",
    "import json\n",
    "import glob\n",
    "from collections import Counter\n",
    "\n",
    "#test sur une encyclopédie médiévale (Alexandre Neckam De Naturis Rerum) du modèle de N.E.R. entraîné\n",
    "def test_model(model, corpus, output_file):\n",
    "    nlp = spacy.load(model)\n",
    "    nlp.max_length = 2000000\n",
    "    \n",
    "    #création d'une liste des entités nommées dans un fichier .json avec indication de leur position dans le texte\n",
    "    TEST_DATA = []\n",
    "    with open(corpus, \"r\", encoding=\"utf-8\") as f:\n",
    "        corpus = f.read()\n",
    "        segments = corpus.split(\"\\n\")\n",
    "        for segment in segments:\n",
    "            segment = segment.strip()\n",
    "            doc = nlp(segment)\n",
    "            entities = []\n",
    "            for ent in doc.ents:\n",
    "                entities.append({\"start\":ent.start_char, \"end\": ent.end_char,  \"label\": ent.label_, \"text\": ent.text})\n",
    "            if len(entities) > 0:\n",
    "                TEST_DATA.append({\"text\": segment, \"spans\": entities})\n",
    "    print(len(TEST_DATA))\n",
    "            \n",
    "    with open(output_file, \"w\", encoding=\"utf-8\") as f:\n",
    "        json.dump(TEST_DATA, f, indent=4)\n",
    "\n",
    "    #remove duplicated named entities and count the number of times a named entity occurs\n",
    "    doc = nlp(corpus)\n",
    "    ents = Counter()\n",
    "    for ent in doc.ents:\n",
    "        ents[f\"{ent.text}:{ent.label_}\"] += 1\n",
    "    with open('results_one_ref.txt','w') as f:\n",
    "        for key, val in ents.items():\n",
    "            f.write('{} : {}\\n'.format(key,val))\n",
    "            \n",
    "    #sort by alphabetical order\n",
    "    with open('results_one_ref.txt','r') as f:\n",
    "        rows = f.readlines()\n",
    "        sorted_rows = sorted(rows)\n",
    "        with open('results_one_ref.txt','w') as f2:\n",
    "            for row in sorted_rows:\n",
    "                f2.write(row)\n",
    "\n",
    "test_model(\"../models/names_ent_ruler/\", '../data/Neckam.txt', \"test_Neckam.json\")"
   ]
  }
 ],
 "metadata": {
  "interpreter": {
   "hash": "cb82cf9649e39cce20e241ae2ff8961d79b85aa0772a4e03160b4499d1385637"
  },
  "kernelspec": {
   "display_name": "Python 3 (ipykernel)",
   "language": "python",
   "name": "python3"
  },
  "language_info": {
   "codemirror_mode": {
    "name": "ipython",
    "version": 3
   },
   "file_extension": ".py",
   "mimetype": "text/x-python",
   "name": "python",
   "nbconvert_exporter": "python",
   "pygments_lexer": "ipython3",
   "version": "3.9.12"
  }
 },
 "nbformat": 4,
 "nbformat_minor": 5
}
