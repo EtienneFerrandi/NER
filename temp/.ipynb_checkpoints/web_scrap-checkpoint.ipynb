{
 "cells": [
  {
   "cell_type": "code",
   "execution_count": 1,
   "id": "97d73e8b",
   "metadata": {},
   "outputs": [],
   "source": [
    "from bs4 import BeautifulSoup\n",
    "from selenium import webdriver\n",
    "import time"
   ]
  },
  {
   "cell_type": "code",
   "execution_count": 4,
   "id": "b6544cd1",
   "metadata": {},
   "outputs": [],
   "source": [
    "def get_url(url):\n",
    "    driver = webdriver.Firefox(executable_path=r'C:\\Users\\etien\\anaconda3\\geckodriver-v0.31.0-win64\\geckodriver.exe')\n",
    "    driver.get(url)\n",
    "    soup = BeautifulSoup(driver.page_source, features=\"html.parser\")\n",
    "    all_div=soup.find_all('div',{\"class\": \"row\"})\n",
    "    for div in all_div:\n",
    "        ul=div.find_all('ul',{\"role\":\"group\"})\n",
    "        for i in ul:\n",
    "            li=i.find_all('li')\n",
    "            for j in li:\n",
    "                a=j.find_all(\"a\")\n",
    "                for k in a:\n",
    "                    l_url=[]\n",
    "                    ID=k.get(\"id\").split(\"_\")[1]\n",
    "                    url_base=url.split(\"?\")[0]\n",
    "                    new_url=url_base + \"?citid=cit_\" + ID\n",
    "                    l_url.append(new_url)\n",
    "                    for url in l_url:\n",
    "                        l=[]\n",
    "                        driver.get(url)\n",
    "                        time.sleep(3)\n",
    "                        drive=driver.page_source\n",
    "                        l.append(drive)\n",
    "                        for i in l:\n",
    "                            l_soup=[]\n",
    "                            new_soup = BeautifulSoup(i, features=\"html.parser\")\n",
    "                            l_soup.append(new_soup)\n",
    "                            for i in l_soup:\n",
    "                                all_div2=i.find_all('div',{\"class\": \"row\"})\n",
    "                                for div in all_div2:\n",
    "                                    ul2=div.find_all('ul',{\"role\":\"group\"})\n",
    "                                    for i in ul2:\n",
    "                                        li2=i.find_all('li')\n",
    "                                        print(i.find('li').text)\n",
    "                                        for j in li2:\n",
    "                                            a2=j.find_all(\"a\")\n",
    "                                            #print(j.find('a').text)"
   ]
  },
  {
   "cell_type": "code",
   "execution_count": 5,
   "id": "853237a6",
   "metadata": {},
   "outputs": [
    {
     "name": "stderr",
     "output_type": "stream",
     "text": [
      "C:\\Users\\etien\\AppData\\Local\\Temp\\ipykernel_9584\\3765070216.py:2: DeprecationWarning: executable_path has been deprecated, please pass in a Service object\n",
      "  driver = webdriver.Firefox(executable_path=r'C:\\Users\\etien\\anaconda3\\geckodriver-v0.31.0-win64\\geckodriver.exe')\n"
     ]
    },
    {
     "name": "stdout",
     "output_type": "stream",
     "text": [
      "prolog. - PROHEMIUM\n",
      "prolog. - PROHEMIUM1 - in libros de Hystoria Naturali, Johannes Egidii2 - 3 - Ysaias quadragessimo capitulo, Job similiter duodecimo capitulo libri sui, Sapiencie decimotercio capitulo4 - Augustinus decimo libro Confessionum, Augustinus in libro De civitate Dei5 - beatus Ambrosius Super primum capitulum ad Romanos, Johannes Damascenus, idem6 - Philosophus undecimo De animalibus7 - 8 - 9 - Apostolus, in hoc libro, De hystoria naturali, De rerum naturis, in libro cuius titulus et Archivus sive Armarium Scripturarum, in libro De hystoria civili\n",
      "1 - in libros de Hystoria Naturali, Johannes Egidii\n",
      "prolog. - PROHEMIUM1 - in libros de Hystoria Naturali, Johannes Egidii2 - 3 - Ysaias quadragessimo capitulo, Job similiter duodecimo capitulo libri sui, Sapiencie decimotercio capitulo4 - Augustinus decimo libro Confessionum, Augustinus in libro De civitate Dei5 - beatus Ambrosius Super primum capitulum ad Romanos, Johannes Damascenus, idem6 - Philosophus undecimo De animalibus7 - 8 - 9 - Apostolus, in hoc libro, De hystoria naturali, De rerum naturis, in libro cuius titulus et Archivus sive Armarium Scripturarum, in libro De hystoria civili\n",
      "1 - in libros de Hystoria Naturali, Johannes Egidii\n",
      "prolog. - PROHEMIUM1 - in libros de Hystoria Naturali, Johannes Egidii2 - 3 - Ysaias quadragessimo capitulo, Job similiter duodecimo capitulo libri sui, Sapiencie decimotercio capitulo4 - Augustinus decimo libro Confessionum, Augustinus in libro De civitate Dei5 - beatus Ambrosius Super primum capitulum ad Romanos, Johannes Damascenus, idem6 - Philosophus undecimo De animalibus7 - 8 - 9 - Apostolus, in hoc libro, De hystoria naturali, De rerum naturis, in libro cuius titulus et Archivus sive Armarium Scripturarum, in libro De hystoria civili\n",
      "1 - in libros de Hystoria Naturali, Johannes Egidii\n",
      "prolog. - PROHEMIUM1 - in libros de Hystoria Naturali, Johannes Egidii2 - 3 - Ysaias quadragessimo capitulo, Job similiter duodecimo capitulo libri sui, Sapiencie decimotercio capitulo4 - Augustinus decimo libro Confessionum, Augustinus in libro De civitate Dei5 - beatus Ambrosius Super primum capitulum ad Romanos, Johannes Damascenus, idem6 - Philosophus undecimo De animalibus7 - 8 - 9 - Apostolus, in hoc libro, De hystoria naturali, De rerum naturis, in libro cuius titulus et Archivus sive Armarium Scripturarum, in libro De hystoria civili\n",
      "1 - in libros de Hystoria Naturali, Johannes Egidii\n",
      "prolog. - PROHEMIUM1 - in libros de Hystoria Naturali, Johannes Egidii2 - 3 - Ysaias quadragessimo capitulo, Job similiter duodecimo capitulo libri sui, Sapiencie decimotercio capitulo4 - Augustinus decimo libro Confessionum, Augustinus in libro De civitate Dei5 - beatus Ambrosius Super primum capitulum ad Romanos, Johannes Damascenus, idem6 - Philosophus undecimo De animalibus7 - 8 - 9 - Apostolus, in hoc libro, De hystoria naturali, De rerum naturis, in libro cuius titulus et Archivus sive Armarium Scripturarum, in libro De hystoria civili\n",
      "1 - in libros de Hystoria Naturali, Johannes Egidii\n",
      "prolog. - PROHEMIUM1 - in libros de Hystoria Naturali, Johannes Egidii2 - 3 - Ysaias quadragessimo capitulo, Job similiter duodecimo capitulo libri sui, Sapiencie decimotercio capitulo4 - Augustinus decimo libro Confessionum, Augustinus in libro De civitate Dei5 - beatus Ambrosius Super primum capitulum ad Romanos, Johannes Damascenus, idem6 - Philosophus undecimo De animalibus7 - 8 - 9 - Apostolus, in hoc libro, De hystoria naturali, De rerum naturis, in libro cuius titulus et Archivus sive Armarium Scripturarum, in libro De hystoria civili\n",
      "1 - in libros de Hystoria Naturali, Johannes Egidii\n",
      "prolog. - PROHEMIUM1 - in libros de Hystoria Naturali, Johannes Egidii2 - 3 - Ysaias quadragessimo capitulo, Job similiter duodecimo capitulo libri sui, Sapiencie decimotercio capitulo4 - Augustinus decimo libro Confessionum, Augustinus in libro De civitate Dei5 - beatus Ambrosius Super primum capitulum ad Romanos, Johannes Damascenus, idem6 - Philosophus undecimo De animalibus7 - 8 - 9 - Apostolus, in hoc libro, De hystoria naturali, De rerum naturis, in libro cuius titulus et Archivus sive Armarium Scripturarum, in libro De hystoria civili\n",
      "1 - in libros de Hystoria Naturali, Johannes Egidii\n",
      "prolog. - PROHEMIUM1 - in libros de Hystoria Naturali, Johannes Egidii2 - 3 - Ysaias quadragessimo capitulo, Job similiter duodecimo capitulo libri sui, Sapiencie decimotercio capitulo4 - Augustinus decimo libro Confessionum, Augustinus in libro De civitate Dei5 - beatus Ambrosius Super primum capitulum ad Romanos, Johannes Damascenus, idem6 - Philosophus undecimo De animalibus7 - 8 - 9 - Apostolus, in hoc libro, De hystoria naturali, De rerum naturis, in libro cuius titulus et Archivus sive Armarium Scripturarum, in libro De hystoria civili\n",
      "1 - in libros de Hystoria Naturali, Johannes Egidii\n",
      "prolog. - PROHEMIUM1 - in libros de Hystoria Naturali, Johannes Egidii2 - 3 - Ysaias quadragessimo capitulo, Job similiter duodecimo capitulo libri sui, Sapiencie decimotercio capitulo4 - Augustinus decimo libro Confessionum, Augustinus in libro De civitate Dei5 - beatus Ambrosius Super primum capitulum ad Romanos, Johannes Damascenus, idem6 - Philosophus undecimo De animalibus7 - 8 - 9 - Apostolus, in hoc libro, De hystoria naturali, De rerum naturis, in libro cuius titulus et Archivus sive Armarium Scripturarum, in libro De hystoria civili\n",
      "1 - in libros de Hystoria Naturali, Johannes Egidii\n"
     ]
    },
    {
     "data": {
      "text/plain": [
       "['http://sourcencyme.irht.cnrs.fr/encyclopedie/historia_naturalis_ed_dominguez_garcia_garcia_ballester_1994?citid=cit_id397123533138']"
      ]
     },
     "execution_count": 5,
     "metadata": {},
     "output_type": "execute_result"
    }
   ],
   "source": [
    "get_url(\"http://sourcencyme.irht.cnrs.fr/encyclopedie/historia_naturalis_ed_dominguez_garcia_garcia_ballester_1994?citid=cit_id397123533589\")"
   ]
  }
 ],
 "metadata": {
  "kernelspec": {
   "display_name": "Python 3 (ipykernel)",
   "language": "python",
   "name": "python3"
  },
  "language_info": {
   "codemirror_mode": {
    "name": "ipython",
    "version": 3
   },
   "file_extension": ".py",
   "mimetype": "text/x-python",
   "name": "python",
   "nbconvert_exporter": "python",
   "pygments_lexer": "ipython3",
   "version": "3.9.12"
  }
 },
 "nbformat": 4,
 "nbformat_minor": 5
}
