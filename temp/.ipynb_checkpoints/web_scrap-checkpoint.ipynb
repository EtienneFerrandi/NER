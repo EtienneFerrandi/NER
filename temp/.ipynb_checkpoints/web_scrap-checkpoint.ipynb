{
 "cells": [
  {
   "cell_type": "code",
   "execution_count": 90,
   "id": "97d73e8b",
   "metadata": {},
   "outputs": [],
   "source": [
    "from bs4 import BeautifulSoup\n",
    "from selenium import webdriver"
   ]
  },
  {
   "cell_type": "code",
   "execution_count": 100,
   "id": "b6544cd1",
   "metadata": {},
   "outputs": [],
   "source": [
    "def get_url(url):\n",
    "    driver = webdriver.Firefox(executable_path=r'C:\\Users\\etien\\anaconda3\\geckodriver-v0.31.0-win64\\geckodriver.exe')\n",
    "    driver.get(url)\n",
    "    soup = BeautifulSoup(driver.page_source, features=\"html.parser\")\n",
    "    all_div=soup.find_all('div',{\"class\": \"row\"})\n",
    "    for div in all_div:\n",
    "        ul=div.find_all('ul',{\"role\":\"group\"})\n",
    "        for i in ul:\n",
    "            li=i.find_all('li')\n",
    "        for j in li:\n",
    "            a=j.find_all(\"a\")\n",
    "            l_url=[]\n",
    "            for k in a:\n",
    "                ID=k.get(\"id\").split(\"_\")[1]\n",
    "                url_base=url.split(\"?\")[0]\n",
    "                new_url=url_base + \"?citid=cit_\" + ID\n",
    "                l_url.append(new_url)\n",
    "                return l_url"
   ]
  },
  {
   "cell_type": "code",
   "execution_count": null,
   "id": "0a300fd3",
   "metadata": {},
   "outputs": [],
   "source": [
    "for url in l_url:\n",
    "            driver.get(url)\n",
    "            new_soup = BeautifulSoup(driver.page_source, features=\"html.parser\")\n",
    "            al=new_soup.find_all('div',{\"class\": \"row\"})\n",
    "            for div in al:\n",
    "                all_items=div.find_all(\"p\")\n",
    "                for item in all_items:\n",
    "                    print(item.text)"
   ]
  },
  {
   "cell_type": "code",
   "execution_count": 101,
   "id": "853237a6",
   "metadata": {},
   "outputs": [
    {
     "name": "stderr",
     "output_type": "stream",
     "text": [
      "C:\\Users\\etien\\AppData\\Local\\Temp\\ipykernel_5224\\2566895432.py:2: DeprecationWarning: executable_path has been deprecated, please pass in a Service object\n",
      "  driver = webdriver.Firefox(executable_path=r'C:\\Users\\etien\\anaconda3\\geckodriver-v0.31.0-win64\\geckodriver.exe')\n"
     ]
    },
    {
     "data": {
      "text/plain": [
       "['http://sourcencyme.irht.cnrs.fr/encyclopedie/historia_naturalis_ed_dominguez_garcia_garcia_ballester_1994?citid=cit_id397123533362']"
      ]
     },
     "execution_count": 101,
     "metadata": {},
     "output_type": "execute_result"
    }
   ],
   "source": [
    "get_url(\"http://sourcencyme.irht.cnrs.fr/encyclopedie/historia_naturalis_ed_dominguez_garcia_garcia_ballester_1994?citid=cit_id397123533589\")"
   ]
  }
 ],
 "metadata": {
  "kernelspec": {
   "display_name": "Python 3 (ipykernel)",
   "language": "python",
   "name": "python3"
  },
  "language_info": {
   "codemirror_mode": {
    "name": "ipython",
    "version": 3
   },
   "file_extension": ".py",
   "mimetype": "text/x-python",
   "name": "python",
   "nbconvert_exporter": "python",
   "pygments_lexer": "ipython3",
   "version": "3.9.12"
  }
 },
 "nbformat": 4,
 "nbformat_minor": 5
}
