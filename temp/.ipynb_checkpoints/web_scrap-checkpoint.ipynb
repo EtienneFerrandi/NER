{
 "cells": [
  {
   "cell_type": "code",
   "execution_count": 1,
   "id": "97d73e8b",
   "metadata": {},
   "outputs": [],
   "source": [
    "from bs4 import BeautifulSoup\n",
    "from selenium import webdriver\n",
    "from selenium.webdriver.firefox.firefox_binary import FirefoxBinary"
   ]
  },
  {
   "cell_type": "code",
   "execution_count": 23,
   "id": "b0fc87bb",
   "metadata": {},
   "outputs": [
    {
     "name": "stderr",
     "output_type": "stream",
     "text": [
      "C:\\Users\\etien\\AppData\\Local\\Temp\\ipykernel_9048\\3750934832.py:2: DeprecationWarning: executable_path has been deprecated, please pass in a Service object\n",
      "  driver = webdriver.Firefox(executable_path=r'C:\\Users\\etien\\anaconda3\\geckodriver-v0.31.0-win64\\geckodriver.exe')\n"
     ]
    }
   ],
   "source": [
    "url = \"http://sourcencyme.irht.cnrs.fr/encyclopedie/historia_naturalis_ed_dominguez_garcia_garcia_ballester_1994?citid=cit_id397123533362\"\n",
    "driver = webdriver.Firefox(executable_path=r'C:\\Users\\etien\\anaconda3\\geckodriver-v0.31.0-win64\\geckodriver.exe')\n",
    "driver.get(url)\n",
    "soup = BeautifulSoup(driver.page_source, features=\"html.parser\")"
   ]
  },
  {
   "cell_type": "code",
   "execution_count": 24,
   "id": "0be519eb",
   "metadata": {},
   "outputs": [
    {
     "name": "stdout",
     "output_type": "stream",
     "text": [
      "Citation n°1 - Marqueurs médiévaux : in libros de Hystoria Naturali, Johannes Egidii\n",
      "Incipit meditacio prohemialis  in libros de Hystoria Naturali, quos compilavit frater  Johannes Egidii, doctor fratrum minorum Zamorensium, secundum ordinem alphabeti, absque preiudicio sentencie melioris,  ex dictis philosophorum et sanctorum et aliorum hominum sapientum.\n"
     ]
    }
   ],
   "source": [
    "all_div=soup.find_all('div',{\"class\": \"row\"})\n",
    "for div in all_div:\n",
    "    all_items=div.find_all(\"p\")\n",
    "    for item in all_items:\n",
    "        print(item.text)"
   ]
  }
 ],
 "metadata": {
  "kernelspec": {
   "display_name": "Python 3 (ipykernel)",
   "language": "python",
   "name": "python3"
  },
  "language_info": {
   "codemirror_mode": {
    "name": "ipython",
    "version": 3
   },
   "file_extension": ".py",
   "mimetype": "text/x-python",
   "name": "python",
   "nbconvert_exporter": "python",
   "pygments_lexer": "ipython3",
   "version": "3.9.12"
  }
 },
 "nbformat": 4,
 "nbformat_minor": 5
}
