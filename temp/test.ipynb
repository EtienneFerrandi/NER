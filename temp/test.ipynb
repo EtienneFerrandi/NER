{
 "cells": [
  {
   "cell_type": "code",
   "execution_count": 1,
   "id": "55e062aa",
   "metadata": {},
   "outputs": [
    {
     "name": "stdout",
     "output_type": "stream",
     "text": [
      "2425\n"
     ]
    }
   ],
   "source": [
    "import spacy\n",
    "import json\n",
    "import glob\n",
    "\n",
    "#test sur une encyclopédie médiévale du modèle de N.E.R. entraîné\n",
    "def test_model(model, corpus, output_file):\n",
    "    nlp = spacy.load(model)\n",
    "    nlp.max_length = 2000000\n",
    "    \n",
    "    #création d'une liste des entités nommées dans un fichier .json avec indication de leur position dans le texte\n",
    "    TEST_DATA = []\n",
    "    with open(corpus, \"r\", encoding=\"utf-8\") as f:\n",
    "        corpus = f.read()\n",
    "        segments = corpus.split(\"\\n\")\n",
    "        for segment in segments:\n",
    "            segment = segment.strip()\n",
    "            doc = nlp(segment)\n",
    "            entities = []\n",
    "            for ent in doc.ents:\n",
    "                entities.append({\"start\":ent.start_char, \"end\": ent.end_char,  \"label\": ent.label_, \"text\": ent.text})\n",
    "            if len(entities) > 0:\n",
    "                TEST_DATA.append({\"text\": segment, \"spans\": entities})\n",
    "    print(len(TEST_DATA))\n",
    "            \n",
    "    with open(output_file, \"w\", encoding=\"utf-8\") as f:\n",
    "        json.dump(TEST_DATA, f, indent=4)\n",
    "\n",
    "    #création d'une simple liste des entités nommées\n",
    "    with open(\"results_one_ref.txt\", \"w\", encoding=\"utf-8\") as f:\n",
    "        doc = nlp(corpus)\n",
    "        for ent in doc.ents:\n",
    "            f.write(f\"{ent.text}, {ent.label_}\\n\")\n",
    "    #remove duplicated entries in the ml_results.txt file\n",
    "    lines = open('results_one_ref.txt', 'r').readlines()\n",
    "    lines_set = set(lines)\n",
    "    out  = open('results_one_ref.txt', 'w')\n",
    "    for line in lines_set:\n",
    "        out.write(line)\n",
    "\n",
    "test_model(\"../models/names_ent_ruler/\", '../data/Marci-Encycl.txt', \"test.json\")"
   ]
  }
 ],
 "metadata": {
  "interpreter": {
   "hash": "cb82cf9649e39cce20e241ae2ff8961d79b85aa0772a4e03160b4499d1385637"
  },
  "kernelspec": {
   "display_name": "Python 3 (ipykernel)",
   "language": "python",
   "name": "python3"
  },
  "language_info": {
   "codemirror_mode": {
    "name": "ipython",
    "version": 3
   },
   "file_extension": ".py",
   "mimetype": "text/x-python",
   "name": "python",
   "nbconvert_exporter": "python",
   "pygments_lexer": "ipython3",
   "version": "3.8.10"
  }
 },
 "nbformat": 4,
 "nbformat_minor": 5
}
